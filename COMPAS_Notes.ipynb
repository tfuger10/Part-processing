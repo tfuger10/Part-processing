{
 "cells": [
  {
   "cell_type": "code",
   "execution_count": 1,
   "id": "e5a5b3d7-e365-45a5-960c-b106cf741000",
   "metadata": {
    "tags": []
   },
   "outputs": [],
   "source": [
    "from compas_occ.brep import BRep\n",
    "# import compas.data\n",
    "import numpy as np"
   ]
  },
  {
   "cell_type": "code",
   "execution_count": 2,
   "id": "824fceeb-419a-4486-850b-858f59918b36",
   "metadata": {
    "tags": []
   },
   "outputs": [],
   "source": [
    "COM = BRep.from_step('Cab4.stp')"
   ]
  },
  {
   "cell_type": "code",
   "execution_count": 3,
   "id": "ff588239-cab8-472e-856f-e9c1da983b0c",
   "metadata": {
    "tags": []
   },
   "outputs": [
    {
     "data": {
      "text/plain": [
       "<class 'TopoDS_Solid'>"
      ]
     },
     "execution_count": 3,
     "metadata": {},
     "output_type": "execute_result"
    }
   ],
   "source": [
    "COM.occ_shape"
   ]
  },
  {
   "cell_type": "code",
   "execution_count": 4,
   "id": "475eb40b-1ab9-4952-b9ae-f04b43985c2d",
   "metadata": {
    "tags": []
   },
   "outputs": [
    {
     "data": {
      "text/plain": [
       "2"
      ]
     },
     "execution_count": 4,
     "metadata": {},
     "output_type": "execute_result"
    }
   ],
   "source": [
    "COM.type"
   ]
  },
  {
   "cell_type": "code",
   "execution_count": 5,
   "id": "76ea6bd1-abd3-45ab-a273-f93f1fce98c7",
   "metadata": {
    "tags": []
   },
   "outputs": [
    {
     "ename": "NotImplementedError",
     "evalue": "",
     "output_type": "error",
     "traceback": [
      "\u001b[1;31m---------------------------------------------------------------------------\u001b[0m",
      "\u001b[1;31mNotImplementedError\u001b[0m                       Traceback (most recent call last)",
      "Cell \u001b[1;32mIn[5], line 1\u001b[0m\n\u001b[1;32m----> 1\u001b[0m json \u001b[38;5;241m=\u001b[39m \u001b[43mCOM\u001b[49m\u001b[38;5;241;43m.\u001b[39;49m\u001b[43mto_jsonstring\u001b[49m\u001b[43m(\u001b[49m\u001b[43m)\u001b[49m\n",
      "File \u001b[1;32m~\\anaconda3\\envs\\research_compas\\Lib\\site-packages\\compas\\data\\data.py:311\u001b[0m, in \u001b[0;36mData.to_jsonstring\u001b[1;34m(self, pretty)\u001b[0m\n\u001b[0;32m    297\u001b[0m \u001b[38;5;28;01mdef\u001b[39;00m \u001b[38;5;21mto_jsonstring\u001b[39m(\u001b[38;5;28mself\u001b[39m, pretty\u001b[38;5;241m=\u001b[39m\u001b[38;5;28;01mFalse\u001b[39;00m):\n\u001b[0;32m    298\u001b[0m \u001b[38;5;250m    \u001b[39m\u001b[38;5;124;03m\"\"\"Serialize the data representation of an object to a JSON string.\u001b[39;00m\n\u001b[0;32m    299\u001b[0m \n\u001b[0;32m    300\u001b[0m \u001b[38;5;124;03m    Parameters\u001b[39;00m\n\u001b[1;32m   (...)\u001b[0m\n\u001b[0;32m    309\u001b[0m \n\u001b[0;32m    310\u001b[0m \u001b[38;5;124;03m    \"\"\"\u001b[39;00m\n\u001b[1;32m--> 311\u001b[0m     \u001b[38;5;28;01mreturn\u001b[39;00m compas\u001b[38;5;241m.\u001b[39mjson_dumps(\u001b[38;5;28;43mself\u001b[39;49m\u001b[38;5;241;43m.\u001b[39;49m\u001b[43mdata\u001b[49m, pretty)\n",
      "File \u001b[1;32m~\\anaconda3\\envs\\research_compas\\Lib\\site-packages\\compas_occ\\brep\\brep.py:175\u001b[0m, in \u001b[0;36mBRep.data\u001b[1;34m(self)\u001b[0m\n\u001b[0;32m    173\u001b[0m faces \u001b[38;5;241m=\u001b[39m []\n\u001b[0;32m    174\u001b[0m \u001b[38;5;28;01mfor\u001b[39;00m face \u001b[38;5;129;01min\u001b[39;00m \u001b[38;5;28mself\u001b[39m\u001b[38;5;241m.\u001b[39mfaces:\n\u001b[1;32m--> 175\u001b[0m     faces\u001b[38;5;241m.\u001b[39mappend(\u001b[43mface\u001b[49m\u001b[38;5;241;43m.\u001b[39;49m\u001b[43mdata\u001b[49m)\n\u001b[0;32m    176\u001b[0m \u001b[38;5;28;01mreturn\u001b[39;00m {\u001b[38;5;124m\"\u001b[39m\u001b[38;5;124mfaces\u001b[39m\u001b[38;5;124m\"\u001b[39m: faces}\n",
      "File \u001b[1;32m~\\anaconda3\\envs\\research_compas\\Lib\\site-packages\\compas_occ\\brep\\brepface.py:106\u001b[0m, in \u001b[0;36mBRepFace.data\u001b[1;34m(self)\u001b[0m\n\u001b[0;32m    104\u001b[0m \u001b[38;5;129m@property\u001b[39m\n\u001b[0;32m    105\u001b[0m \u001b[38;5;28;01mdef\u001b[39;00m \u001b[38;5;21mdata\u001b[39m(\u001b[38;5;28mself\u001b[39m):\n\u001b[1;32m--> 106\u001b[0m     \u001b[38;5;28;01mraise\u001b[39;00m \u001b[38;5;167;01mNotImplementedError\u001b[39;00m\n",
      "\u001b[1;31mNotImplementedError\u001b[0m: "
     ]
    }
   ],
   "source": [
    "json = COM.to_jsonstring()"
   ]
  },
  {
   "cell_type": "code",
   "execution_count": null,
   "id": "85ceb40b-fe64-46ec-bce7-cce615e6152a",
   "metadata": {},
   "outputs": [],
   "source": []
  },
  {
   "cell_type": "code",
   "execution_count": 2,
   "id": "e98edcb4-ce03-43f9-9b76-510d0e832c99",
   "metadata": {
    "tags": []
   },
   "outputs": [],
   "source": [
    "cab = []\n",
    "\n",
    "for i in range(1,7):\n",
    "    cab.append(BRep.from_step('Cab' + str(i) + '.stp'))"
   ]
  },
  {
   "cell_type": "code",
   "execution_count": 3,
   "id": "48963e22-0201-4729-85b6-81c623478125",
   "metadata": {
    "tags": []
   },
   "outputs": [
    {
     "data": {
      "text/plain": [
       "[<compas_occ.brep.brep.BRep at 0x25361d332d0>,\n",
       " <compas_occ.brep.brep.BRep at 0x2536ac94e50>,\n",
       " <compas_occ.brep.brep.BRep at 0x2536ac952d0>,\n",
       " <compas_occ.brep.brep.BRep at 0x2536ac95350>,\n",
       " <compas_occ.brep.brep.BRep at 0x2536ac953d0>,\n",
       " <compas_occ.brep.brep.BRep at 0x2536ac954d0>]"
      ]
     },
     "execution_count": 3,
     "metadata": {},
     "output_type": "execute_result"
    }
   ],
   "source": [
    "cab"
   ]
  },
  {
   "cell_type": "code",
   "execution_count": 6,
   "id": "edc19ea9-4014-4fa0-aacc-c8fff910c389",
   "metadata": {
    "tags": []
   },
   "outputs": [
    {
     "data": {
      "text/plain": [
       "4921732.092000002"
      ]
     },
     "execution_count": 6,
     "metadata": {},
     "output_type": "execute_result"
    }
   ],
   "source": [
    "COM.area"
   ]
  },
  {
   "cell_type": "code",
   "execution_count": 7,
   "id": "88a95825-508a-46db-ac75-5bc14a749af9",
   "metadata": {
    "tags": []
   },
   "outputs": [
    {
     "name": "stdout",
     "output_type": "stream",
     "text": [
      "<compas_occ.brep.brep.BRep object at 0x000002536AC669D0>\n"
     ]
    }
   ],
   "source": [
    "print(COM)"
   ]
  },
  {
   "cell_type": "code",
   "execution_count": 10,
   "id": "fe01dc6a-dfd4-417d-839a-a78298330503",
   "metadata": {
    "tags": []
   },
   "outputs": [],
   "source": [
    "array = np.array(COM)"
   ]
  },
  {
   "cell_type": "code",
   "execution_count": 11,
   "id": "be67bbd7-c1a1-48d9-a770-cf5301195ce8",
   "metadata": {
    "tags": []
   },
   "outputs": [
    {
     "data": {
      "text/plain": [
       "array(<compas_occ.brep.brep.BRep object at 0x000002536AC669D0>,\n",
       "      dtype=object)"
      ]
     },
     "execution_count": 11,
     "metadata": {},
     "output_type": "execute_result"
    }
   ],
   "source": [
    "array"
   ]
  },
  {
   "cell_type": "code",
   "execution_count": 13,
   "id": "7167154d-5804-498c-b710-cdc1de058d9c",
   "metadata": {
    "tags": []
   },
   "outputs": [
    {
     "name": "stdout",
     "output_type": "stream",
     "text": [
      "6.0\n",
      "1.0\n",
      "[1.0, 1.0, 1.0]\n",
      "[(0, 1), (1, 2), (2, 3), (3, 0), (4, 5), (5, 6), (6, 7), (7, 4), (0, 4), (1, 7), (2, 6), (3, 5)]\n",
      "[[0, 1, 2, 3], [0, 3, 5, 4], [3, 2, 6, 5], [2, 1, 7, 6], [1, 0, 4, 7], [4, 5, 6, 7]]\n",
      "[Point(-0.500, -0.500, -0.500), Point(-0.500, 0.500, -0.500), Point(0.500, 0.500, -0.500), Point(0.500, -0.500, -0.500), Point(-0.500, -0.500, 0.500), Point(0.500, -0.500, 0.500), Point(0.500, 0.500, 0.500), Point(-0.500, 0.500, 0.500)]\n"
     ]
    }
   ],
   "source": [
    "from compas.geometry import Box\n",
    "from compas.geometry import Frame\n",
    "\n",
    "\n",
    "# define a coorindate system\n",
    "frame = Frame.worldXY()\n",
    "\n",
    "# create a box in the coordinate system\n",
    "box = Box(frame=frame, xsize=1, ysize=1, zsize=1)\n",
    "\n",
    "\n",
    "print(box.area)\n",
    "print(box.volume)\n",
    "print(box.dimensions)\n",
    "print(box.edges)\n",
    "print(box.faces)\n",
    "print(box.points)"
   ]
  },
  {
   "cell_type": "code",
   "execution_count": 20,
   "id": "7ac0839c-3109-4ecc-a0f5-238a128d4a15",
   "metadata": {
    "tags": []
   },
   "outputs": [],
   "source": [
    "import os"
   ]
  },
  {
   "cell_type": "code",
   "execution_count": null,
   "id": "fef9dc2b-9dcd-48ef-8e9b-08de0bc8426c",
   "metadata": {
    "tags": []
   },
   "outputs": [
    {
     "ename": "NotImplementedError",
     "evalue": "",
     "output_type": "error",
     "traceback": [
      "\u001b[1;31m---------------------------------------------------------------------------\u001b[0m",
      "\u001b[1;31mNotImplementedError\u001b[0m                       Traceback (most recent call last)",
      "Cell \u001b[1;32mIn[8], line 3\u001b[0m\n\u001b[0;32m      1\u001b[0m FILE \u001b[38;5;241m=\u001b[39m os\u001b[38;5;241m.\u001b[39mpath\u001b[38;5;241m.\u001b[39mdirname(\u001b[38;5;124m'\u001b[39m\u001b[38;5;124m/json/exchange.json\u001b[39m\u001b[38;5;124m'\u001b[39m)\n\u001b[1;32m----> 3\u001b[0m \u001b[43mcompas\u001b[49m\u001b[38;5;241;43m.\u001b[39;49m\u001b[43mdata\u001b[49m\u001b[38;5;241;43m.\u001b[39;49m\u001b[43mjson_dump\u001b[49m\u001b[43m(\u001b[49m\u001b[43mCOM\u001b[49m\u001b[43m,\u001b[49m\u001b[43m \u001b[49m\u001b[43mFILE\u001b[49m\u001b[43m)\u001b[49m\n",
      "File \u001b[1;32m~\\anaconda3\\envs\\research_compas\\Lib\\site-packages\\compas\\data\\json.py:41\u001b[0m, in \u001b[0;36mjson_dump\u001b[1;34m(data, fp, pretty)\u001b[0m\n\u001b[0;32m     39\u001b[0m \u001b[38;5;28;01mwith\u001b[39;00m _iotools\u001b[38;5;241m.\u001b[39mopen_file(fp, \u001b[38;5;124m\"\u001b[39m\u001b[38;5;124mw\u001b[39m\u001b[38;5;124m\"\u001b[39m) \u001b[38;5;28;01mas\u001b[39;00m f:\n\u001b[0;32m     40\u001b[0m     kwargs \u001b[38;5;241m=\u001b[39m \u001b[38;5;28mdict\u001b[39m(sort_keys\u001b[38;5;241m=\u001b[39m\u001b[38;5;28;01mTrue\u001b[39;00m, indent\u001b[38;5;241m=\u001b[39m\u001b[38;5;241m4\u001b[39m) \u001b[38;5;28;01mif\u001b[39;00m pretty \u001b[38;5;28;01melse\u001b[39;00m {}\n\u001b[1;32m---> 41\u001b[0m     \u001b[38;5;28;01mreturn\u001b[39;00m \u001b[43mjson\u001b[49m\u001b[38;5;241;43m.\u001b[39;49m\u001b[43mdump\u001b[49m\u001b[43m(\u001b[49m\u001b[43mdata\u001b[49m\u001b[43m,\u001b[49m\u001b[43m \u001b[49m\u001b[43mf\u001b[49m\u001b[43m,\u001b[49m\u001b[43m \u001b[49m\u001b[38;5;28;43mcls\u001b[39;49m\u001b[38;5;241;43m=\u001b[39;49m\u001b[43mDataEncoder\u001b[49m\u001b[43m,\u001b[49m\u001b[43m \u001b[49m\u001b[38;5;241;43m*\u001b[39;49m\u001b[38;5;241;43m*\u001b[39;49m\u001b[43mkwargs\u001b[49m\u001b[43m)\u001b[49m\n",
      "File \u001b[1;32m~\\anaconda3\\envs\\research_compas\\Lib\\json\\__init__.py:179\u001b[0m, in \u001b[0;36mdump\u001b[1;34m(obj, fp, skipkeys, ensure_ascii, check_circular, allow_nan, cls, indent, separators, default, sort_keys, **kw)\u001b[0m\n\u001b[0;32m    173\u001b[0m     iterable \u001b[38;5;241m=\u001b[39m \u001b[38;5;28mcls\u001b[39m(skipkeys\u001b[38;5;241m=\u001b[39mskipkeys, ensure_ascii\u001b[38;5;241m=\u001b[39mensure_ascii,\n\u001b[0;32m    174\u001b[0m         check_circular\u001b[38;5;241m=\u001b[39mcheck_circular, allow_nan\u001b[38;5;241m=\u001b[39mallow_nan, indent\u001b[38;5;241m=\u001b[39mindent,\n\u001b[0;32m    175\u001b[0m         separators\u001b[38;5;241m=\u001b[39mseparators,\n\u001b[0;32m    176\u001b[0m         default\u001b[38;5;241m=\u001b[39mdefault, sort_keys\u001b[38;5;241m=\u001b[39msort_keys, \u001b[38;5;241m*\u001b[39m\u001b[38;5;241m*\u001b[39mkw)\u001b[38;5;241m.\u001b[39miterencode(obj)\n\u001b[0;32m    177\u001b[0m \u001b[38;5;66;03m# could accelerate with writelines in some versions of Python, at\u001b[39;00m\n\u001b[0;32m    178\u001b[0m \u001b[38;5;66;03m# a debuggability cost\u001b[39;00m\n\u001b[1;32m--> 179\u001b[0m \u001b[38;5;28;01mfor\u001b[39;00m chunk \u001b[38;5;129;01min\u001b[39;00m iterable:\n\u001b[0;32m    180\u001b[0m     fp\u001b[38;5;241m.\u001b[39mwrite(chunk)\n",
      "File \u001b[1;32m~\\anaconda3\\envs\\research_compas\\Lib\\json\\encoder.py:439\u001b[0m, in \u001b[0;36m_make_iterencode.<locals>._iterencode\u001b[1;34m(o, _current_indent_level)\u001b[0m\n\u001b[0;32m    437\u001b[0m         \u001b[38;5;28;01mraise\u001b[39;00m \u001b[38;5;167;01mValueError\u001b[39;00m(\u001b[38;5;124m\"\u001b[39m\u001b[38;5;124mCircular reference detected\u001b[39m\u001b[38;5;124m\"\u001b[39m)\n\u001b[0;32m    438\u001b[0m     markers[markerid] \u001b[38;5;241m=\u001b[39m o\n\u001b[1;32m--> 439\u001b[0m o \u001b[38;5;241m=\u001b[39m \u001b[43m_default\u001b[49m\u001b[43m(\u001b[49m\u001b[43mo\u001b[49m\u001b[43m)\u001b[49m\n\u001b[0;32m    440\u001b[0m \u001b[38;5;28;01myield from\u001b[39;00m _iterencode(o, _current_indent_level)\n\u001b[0;32m    441\u001b[0m \u001b[38;5;28;01mif\u001b[39;00m markers \u001b[38;5;129;01mis\u001b[39;00m \u001b[38;5;129;01mnot\u001b[39;00m \u001b[38;5;28;01mNone\u001b[39;00m:\n",
      "File \u001b[1;32m~\\anaconda3\\envs\\research_compas\\Lib\\site-packages\\compas\\data\\encoders.py:102\u001b[0m, in \u001b[0;36mDataEncoder.default\u001b[1;34m(self, o)\u001b[0m\n\u001b[0;32m     88\u001b[0m \u001b[38;5;250m\u001b[39m\u001b[38;5;124;03m\"\"\"Return an object in serialized form.\u001b[39;00m\n\u001b[0;32m     89\u001b[0m \n\u001b[0;32m     90\u001b[0m \u001b[38;5;124;03mParameters\u001b[39;00m\n\u001b[1;32m   (...)\u001b[0m\n\u001b[0;32m     99\u001b[0m \n\u001b[0;32m    100\u001b[0m \u001b[38;5;124;03m\"\"\"\u001b[39;00m\n\u001b[0;32m    101\u001b[0m \u001b[38;5;28;01mif\u001b[39;00m \u001b[38;5;28mhasattr\u001b[39m(o, \u001b[38;5;124m\"\u001b[39m\u001b[38;5;124mto_data\u001b[39m\u001b[38;5;124m\"\u001b[39m):\n\u001b[1;32m--> 102\u001b[0m     value \u001b[38;5;241m=\u001b[39m \u001b[43mo\u001b[49m\u001b[38;5;241;43m.\u001b[39;49m\u001b[43mto_data\u001b[49m\u001b[43m(\u001b[49m\u001b[43m)\u001b[49m\n\u001b[0;32m    103\u001b[0m     \u001b[38;5;28;01mif\u001b[39;00m \u001b[38;5;28mhasattr\u001b[39m(o, \u001b[38;5;124m\"\u001b[39m\u001b[38;5;124mdtype\u001b[39m\u001b[38;5;124m\"\u001b[39m):\n\u001b[0;32m    104\u001b[0m         dtype \u001b[38;5;241m=\u001b[39m o\u001b[38;5;241m.\u001b[39mdtype\n",
      "File \u001b[1;32m~\\anaconda3\\envs\\research_compas\\Lib\\site-packages\\compas\\data\\data.py:242\u001b[0m, in \u001b[0;36mData.to_data\u001b[1;34m(self)\u001b[0m\n\u001b[0;32m    233\u001b[0m \u001b[38;5;28;01mdef\u001b[39;00m \u001b[38;5;21mto_data\u001b[39m(\u001b[38;5;28mself\u001b[39m):\n\u001b[0;32m    234\u001b[0m \u001b[38;5;250m    \u001b[39m\u001b[38;5;124;03m\"\"\"Convert an object to its native data representation.\u001b[39;00m\n\u001b[0;32m    235\u001b[0m \n\u001b[0;32m    236\u001b[0m \u001b[38;5;124;03m    Returns\u001b[39;00m\n\u001b[1;32m   (...)\u001b[0m\n\u001b[0;32m    240\u001b[0m \n\u001b[0;32m    241\u001b[0m \u001b[38;5;124;03m    \"\"\"\u001b[39;00m\n\u001b[1;32m--> 242\u001b[0m     \u001b[38;5;28;01mreturn\u001b[39;00m \u001b[38;5;28;43mself\u001b[39;49m\u001b[38;5;241;43m.\u001b[39;49m\u001b[43mdata\u001b[49m\n",
      "File \u001b[1;32m~\\anaconda3\\envs\\research_compas\\Lib\\site-packages\\compas_occ\\brep\\brep.py:175\u001b[0m, in \u001b[0;36mBRep.data\u001b[1;34m(self)\u001b[0m\n\u001b[0;32m    173\u001b[0m faces \u001b[38;5;241m=\u001b[39m []\n\u001b[0;32m    174\u001b[0m \u001b[38;5;28;01mfor\u001b[39;00m face \u001b[38;5;129;01min\u001b[39;00m \u001b[38;5;28mself\u001b[39m\u001b[38;5;241m.\u001b[39mfaces:\n\u001b[1;32m--> 175\u001b[0m     faces\u001b[38;5;241m.\u001b[39mappend(\u001b[43mface\u001b[49m\u001b[38;5;241;43m.\u001b[39;49m\u001b[43mdata\u001b[49m)\n\u001b[0;32m    176\u001b[0m \u001b[38;5;28;01mreturn\u001b[39;00m {\u001b[38;5;124m\"\u001b[39m\u001b[38;5;124mfaces\u001b[39m\u001b[38;5;124m\"\u001b[39m: faces}\n",
      "File \u001b[1;32m~\\anaconda3\\envs\\research_compas\\Lib\\site-packages\\compas_occ\\brep\\brepface.py:106\u001b[0m, in \u001b[0;36mBRepFace.data\u001b[1;34m(self)\u001b[0m\n\u001b[0;32m    104\u001b[0m \u001b[38;5;129m@property\u001b[39m\n\u001b[0;32m    105\u001b[0m \u001b[38;5;28;01mdef\u001b[39;00m \u001b[38;5;21mdata\u001b[39m(\u001b[38;5;28mself\u001b[39m):\n\u001b[1;32m--> 106\u001b[0m     \u001b[38;5;28;01mraise\u001b[39;00m \u001b[38;5;167;01mNotImplementedError\u001b[39;00m\n",
      "\u001b[1;31mNotImplementedError\u001b[0m: "
     ]
    }
   ],
   "source": [
    "FILE = os.path.dirname('/json/exchange.json')\n",
    "\n",
    "compas.data.json_dump(COM, FILE)"
   ]
  },
  {
   "cell_type": "code",
   "execution_count": null,
   "id": "cc734ac5-033b-4115-b098-cb47db5b8add",
   "metadata": {},
   "outputs": [],
   "source": []
  }
 ],
 "metadata": {
  "kernelspec": {
   "display_name": "research_compas",
   "language": "python",
   "name": "research_compas"
  },
  "language_info": {
   "codemirror_mode": {
    "name": "ipython",
    "version": 3
   },
   "file_extension": ".py",
   "mimetype": "text/x-python",
   "name": "python",
   "nbconvert_exporter": "python",
   "pygments_lexer": "ipython3",
   "version": "3.11.0"
  }
 },
 "nbformat": 4,
 "nbformat_minor": 5
}
